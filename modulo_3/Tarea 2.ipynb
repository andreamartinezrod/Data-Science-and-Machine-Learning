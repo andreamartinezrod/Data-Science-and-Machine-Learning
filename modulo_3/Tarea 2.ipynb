{
 "cells": [
  {
   "cell_type": "code",
   "id": "initial_id",
   "metadata": {
    "collapsed": true,
    "ExecuteTime": {
     "end_time": "2025-08-19T02:14:08.189193Z",
     "start_time": "2025-08-19T02:14:07.819546Z"
    }
   },
   "source": [
    "import pandas as pd\n",
    "from sqlalchemy import create_engine"
   ],
   "outputs": [],
   "execution_count": 4
  },
  {
   "metadata": {
    "ExecuteTime": {
     "end_time": "2025-08-19T02:11:24.549096Z",
     "start_time": "2025-08-19T02:11:24.544995Z"
    }
   },
   "cell_type": "code",
   "source": [
    "# Clase para realizar consultas básicas a una base de datos y sus tablas\n",
    "class BasicQueries:\n",
    "    def __init__(self, credentials):\n",
    "        \"\"\"\n",
    "        Inicializa la clase con un diccionario de credenciales y establece la conexión.\n",
    "        \"\"\"\n",
    "        self.isConnected = False\n",
    "        self.credentials = credentials\n",
    "\n",
    "        # Construcción de la cadena de conexión a partir del diccionario de credenciales\n",
    "        self.engstr = (\n",
    "            f\"{self.credentials['servidor']}://\"\n",
    "            f\"{self.credentials['user']}:{self.credentials['user_pwd']}@\"\n",
    "            f\"{self.credentials['IP/localhost']}/{self.credentials['db']}\"\n",
    "        )\n",
    "        self.connect()  # instanciar un método propio de la clase que estamos escribiendo\n",
    "\n",
    "    def connect(self):\n",
    "        \"\"\"\n",
    "        Establece la conexión a la base de datos usando SQLAlchemy.\n",
    "        \"\"\"\n",
    "        try:\n",
    "            self.engine = create_engine(self.engstr)\n",
    "            self.conn = self.engine.raw_connection()\n",
    "            self.isConnected = True\n",
    "        except Exception as e:\n",
    "            print(f\"No se pudo conectar a la base de datos. Error: {e}\")\n",
    "\n",
    "    def consultar_tablas(self):\n",
    "        \"\"\"\n",
    "        Consulta las tablas disponibles en la base de datos.\n",
    "        \"\"\"\n",
    "        return pd.read_sql(f\"SHOW TABLES FROM {self.credentials['db']}\", self.conn)\n",
    "\n",
    "    def consultar_esquema(self, tabla):\n",
    "        \"\"\"\n",
    "        Consulta el esquema de una tabla específica: nombres de columnas, tipo de datos y si permite nulos.\n",
    "        \"\"\"\n",
    "        return pd.read_sql(\n",
    "            f\"\"\"\n",
    "            SELECT column_name, data_type, is_nullable\n",
    "            FROM information_schema.columns\n",
    "            WHERE table_name = '{tabla}'\n",
    "            \"\"\",\n",
    "            self.conn\n",
    "        )\n",
    "\n",
    "    def consultar_primeras_filas(self, tabla):\n",
    "        \"\"\"\n",
    "        Consulta las primeras 5 filas de una tabla.\n",
    "        \"\"\"\n",
    "        return pd.read_sql(f\"SELECT * FROM {tabla} LIMIT 5\", self.conn)\n",
    "\n",
    "    def query(self, query):\n",
    "        \"\"\"\n",
    "        Ejecuta cualquier consulta SQL y devuelve el resultado como DataFrame.\n",
    "        \"\"\"\n",
    "        return pd.read_sql(query, self.conn)\n"
   ],
   "id": "1dd5e9bf2b6f3e32",
   "outputs": [],
   "execution_count": 1
  },
  {
   "metadata": {
    "ExecuteTime": {
     "end_time": "2025-08-19T02:12:34.854197Z",
     "start_time": "2025-08-19T02:12:34.840175Z"
    }
   },
   "cell_type": "code",
   "source": [
    "credentials = {\n",
    "    \"servidor\": \"mysql+pymysql\",\n",
    "    \"user\": \"root\",\n",
    "    \"user_pwd\": \"Yeiko1208\",\n",
    "    \"IP/localhost\": \"localhost\",\n",
    "    \"db\": \"banco_base\"\n",
    "}"
   ],
   "id": "3bc668f854dfc9",
   "outputs": [],
   "execution_count": 2
  },
  {
   "metadata": {
    "ExecuteTime": {
     "end_time": "2025-08-19T02:14:14.606115Z",
     "start_time": "2025-08-19T02:14:14.533206Z"
    }
   },
   "cell_type": "code",
   "source": [
    "# instanciamos la clase con las credenciales\n",
    "Q = BasicQueries(credentials)"
   ],
   "id": "f8941c4dd99d4865",
   "outputs": [],
   "execution_count": 5
  },
  {
   "metadata": {
    "ExecuteTime": {
     "end_time": "2025-08-19T02:17:42.304498Z",
     "start_time": "2025-08-19T02:17:42.260411Z"
    }
   },
   "cell_type": "code",
   "source": [
    "#Realizamos las consultas con el objeto que instancia el engine\n",
    "pd.read_sql(\"Select * from tarjetas\",Q.conn)"
   ],
   "id": "16ffc60b023d923e",
   "outputs": [
    {
     "name": "stderr",
     "output_type": "stream",
     "text": [
      "/var/folders/p5/32ttydq52jq48h56ch0qt6d40000gn/T/ipykernel_9469/3554551409.py:2: UserWarning: pandas only supports SQLAlchemy connectable (engine/connection) or database string URI or sqlite3 DBAPI2 connection. Other DBAPI2 objects are not tested. Please consider using SQLAlchemy.\n",
      "  pd.read_sql(\"Select * from tarjetas\",Q.conn)\n"
     ]
    },
    {
     "data": {
      "text/plain": [
       "    id_tarjeta     tipo  cliente   monto\n",
       "0            1  Credito        1  126210\n",
       "1            2  Credito        2  259351\n",
       "2            3   Debito        3   15184\n",
       "3            4   Debito        4  218341\n",
       "4            5   Debito        5  479564\n",
       "..         ...      ...      ...     ...\n",
       "95          96   Debito       96  246300\n",
       "96          97  Credito       97   81937\n",
       "97          98   Debito       98  120466\n",
       "98          99   Debito       99  474459\n",
       "99         100  Credito      100   73254\n",
       "\n",
       "[100 rows x 4 columns]"
      ],
      "text/html": [
       "<div>\n",
       "<style scoped>\n",
       "    .dataframe tbody tr th:only-of-type {\n",
       "        vertical-align: middle;\n",
       "    }\n",
       "\n",
       "    .dataframe tbody tr th {\n",
       "        vertical-align: top;\n",
       "    }\n",
       "\n",
       "    .dataframe thead th {\n",
       "        text-align: right;\n",
       "    }\n",
       "</style>\n",
       "<table border=\"1\" class=\"dataframe\">\n",
       "  <thead>\n",
       "    <tr style=\"text-align: right;\">\n",
       "      <th></th>\n",
       "      <th>id_tarjeta</th>\n",
       "      <th>tipo</th>\n",
       "      <th>cliente</th>\n",
       "      <th>monto</th>\n",
       "    </tr>\n",
       "  </thead>\n",
       "  <tbody>\n",
       "    <tr>\n",
       "      <th>0</th>\n",
       "      <td>1</td>\n",
       "      <td>Credito</td>\n",
       "      <td>1</td>\n",
       "      <td>126210</td>\n",
       "    </tr>\n",
       "    <tr>\n",
       "      <th>1</th>\n",
       "      <td>2</td>\n",
       "      <td>Credito</td>\n",
       "      <td>2</td>\n",
       "      <td>259351</td>\n",
       "    </tr>\n",
       "    <tr>\n",
       "      <th>2</th>\n",
       "      <td>3</td>\n",
       "      <td>Debito</td>\n",
       "      <td>3</td>\n",
       "      <td>15184</td>\n",
       "    </tr>\n",
       "    <tr>\n",
       "      <th>3</th>\n",
       "      <td>4</td>\n",
       "      <td>Debito</td>\n",
       "      <td>4</td>\n",
       "      <td>218341</td>\n",
       "    </tr>\n",
       "    <tr>\n",
       "      <th>4</th>\n",
       "      <td>5</td>\n",
       "      <td>Debito</td>\n",
       "      <td>5</td>\n",
       "      <td>479564</td>\n",
       "    </tr>\n",
       "    <tr>\n",
       "      <th>...</th>\n",
       "      <td>...</td>\n",
       "      <td>...</td>\n",
       "      <td>...</td>\n",
       "      <td>...</td>\n",
       "    </tr>\n",
       "    <tr>\n",
       "      <th>95</th>\n",
       "      <td>96</td>\n",
       "      <td>Debito</td>\n",
       "      <td>96</td>\n",
       "      <td>246300</td>\n",
       "    </tr>\n",
       "    <tr>\n",
       "      <th>96</th>\n",
       "      <td>97</td>\n",
       "      <td>Credito</td>\n",
       "      <td>97</td>\n",
       "      <td>81937</td>\n",
       "    </tr>\n",
       "    <tr>\n",
       "      <th>97</th>\n",
       "      <td>98</td>\n",
       "      <td>Debito</td>\n",
       "      <td>98</td>\n",
       "      <td>120466</td>\n",
       "    </tr>\n",
       "    <tr>\n",
       "      <th>98</th>\n",
       "      <td>99</td>\n",
       "      <td>Debito</td>\n",
       "      <td>99</td>\n",
       "      <td>474459</td>\n",
       "    </tr>\n",
       "    <tr>\n",
       "      <th>99</th>\n",
       "      <td>100</td>\n",
       "      <td>Credito</td>\n",
       "      <td>100</td>\n",
       "      <td>73254</td>\n",
       "    </tr>\n",
       "  </tbody>\n",
       "</table>\n",
       "<p>100 rows × 4 columns</p>\n",
       "</div>"
      ]
     },
     "execution_count": 7,
     "metadata": {},
     "output_type": "execute_result"
    }
   ],
   "execution_count": 7
  },
  {
   "metadata": {},
   "cell_type": "code",
   "outputs": [],
   "execution_count": null,
   "source": "",
   "id": "baa23e94021ba28f"
  },
  {
   "metadata": {},
   "cell_type": "code",
   "source": [
    "# 1. Lista los nombres y edades de todos los clientes que tengan ingresos mayores a 50,000.\n",
    "query = \"\"\"\n",
    "        SELECT nombre, edad\n",
    "        FROM clientes\n",
    "        WHERE ingresos > 50000;\n",
    "        \"\"\"\n",
    "df = pd.read_sql(query, Q.conn)\n",
    "display(df)"
   ],
   "id": "8a993fad379562a",
   "outputs": [],
   "execution_count": null
  },
  {
   "metadata": {},
   "cell_type": "code",
   "source": [
    "# 2. Obtén el número total de clientes por país, ordenado de mayor a menor.\n",
    "query = \"\"\"\n",
    "        SELECT pais, COUNT(nombre) AS numero_total_clientes\n",
    "        FROM clientes\n",
    "        GROUP BY pais\n",
    "        ORDER BY COUNT(nombre) DESC;\n",
    "        \"\"\"\n",
    "df = pd.read_sql(query, Q.conn)\n",
    "display(df)"
   ],
   "id": "b585f7cca514cc13",
   "outputs": [],
   "execution_count": null
  },
  {
   "metadata": {},
   "cell_type": "code",
   "source": [
    "# 3. Muestra los clientes (id_cliente, nombre, ingresos) cuyo estrato sea 2 y que además tengan al menos una tarjeta asociada.\n",
    "query = \"\"\"\n",
    "        SELECT id_cliente, nombre, ingresos\n",
    "        FROM clientes\n",
    "        JOIN tarjetas ON clientes.id_cliente = tarjetas.cliente\n",
    "        WHERE estrato = 2;\n",
    "        \"\"\"\n",
    "df = pd.read_sql(query, Q.conn)\n",
    "display(df)"
   ],
   "id": "54b5873a6c2f2d81",
   "outputs": [],
   "execution_count": null
  }
 ],
 "metadata": {
  "kernelspec": {
   "display_name": "Python 3",
   "language": "python",
   "name": "python3"
  },
  "language_info": {
   "codemirror_mode": {
    "name": "ipython",
    "version": 2
   },
   "file_extension": ".py",
   "mimetype": "text/x-python",
   "name": "python",
   "nbconvert_exporter": "python",
   "pygments_lexer": "ipython2",
   "version": "2.7.6"
  }
 },
 "nbformat": 4,
 "nbformat_minor": 5
}
